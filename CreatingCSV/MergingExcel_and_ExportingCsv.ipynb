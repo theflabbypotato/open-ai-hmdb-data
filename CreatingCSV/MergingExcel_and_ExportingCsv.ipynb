{
  "nbformat": 4,
  "nbformat_minor": 0,
  "metadata": {
    "colab": {
      "provenance": []
    },
    "kernelspec": {
      "name": "python3",
      "display_name": "Python 3"
    },
    "language_info": {
      "name": "python"
    }
  },
  "cells": [
    {
      "cell_type": "markdown",
      "source": [
        "#**To create one table with All ID's in one column and All respective names in the other**"
      ],
      "metadata": {
        "id": "qBg3Hp8SfEgK"
      }
    },
    {
      "cell_type": "code",
      "source": [
        "import pandas as pd\n",
        "\n",
        "sheet_names = [\"Urine\", \"Serum\", \"CSF\", \"Saliva\", \"Feces\", \"Sweat\"]\n",
        "\n",
        "data_dict = {}\n",
        "\n",
        "# Iterate through the sheets\n",
        "for sheet_name in sheet_names:\n",
        "    df = pd.read_excel(\"CatagorizedMetabolites.xlsx\", sheet_name=sheet_name)\n",
        "\n",
        "    for index, row in df.iterrows():\n",
        "        id_val = row[\"ID\"]\n",
        "        name_val = row[\"Name\"]\n",
        "\n",
        "        # check if the ID already exists\n",
        "        if id_val in data_dict:\n",
        "            if name_val in data_dict[id_val][\"Where\"]:\n",
        "                data_dict[id_val][\"Where\"][name_val].append(sheet_name)\n",
        "            else:\n",
        "                data_dict[id_val][\"Where\"][name_val] = [sheet_name]\n",
        "        else:\n",
        "            data_dict[id_val] = {\n",
        "                \"ID\": id_val,\n",
        "                \"Name\": name_val,\n",
        "                \"Where\": {name_val: [sheet_name]}\n",
        "            }\n",
        "\n",
        "# Update the \"Where\" values\n",
        "for id_val, data in data_dict.items():\n",
        "    where_dict = data[\"Where\"]\n",
        "    where_list = [sheet_name for metabolite_sheets in where_dict.values() for sheet_name in metabolite_sheets]\n",
        "    data[\"Where\"] = where_list\n",
        "\n",
        "combined_df = pd.DataFrame(list(data_dict.values()))\n",
        "combined_df['Where'] = combined_df['Where'].apply(lambda x: ', '.join(x))\n",
        "\n",
        "# export\n",
        "combined_df.to_csv(\"combined_data.csv\", index=False)\n"
      ],
      "metadata": {
        "id": "jj1_kQOgfDYA"
      },
      "execution_count": null,
      "outputs": []
    },
    {
      "cell_type": "code",
      "source": [
        "#Step 2\n",
        "\n",
        "import pandas as pd\n",
        "\n",
        "# Reading excel files\n",
        "allid_where_df = pd.read_excel(\"ALLid+where.xlsx\")\n",
        "ppmfinal_df = pd.read_excel(\"PPMfinal.xlsx\")\n",
        "\n",
        "# Merge\n",
        "combined_df = pd.merge(allid_where_df, ppmfinal_df, on='ID', how='left')\n",
        "\n",
        "combined_df.rename(columns={'PPM': 'PPM'}, inplace=True)\n",
        "\n",
        "combined_df.to_csv(\"output.csv\", index=False)"
      ],
      "metadata": {
        "id": "ujdL8A_DmCfE"
      },
      "execution_count": null,
      "outputs": []
    },
    {
      "cell_type": "markdown",
      "source": [
        "#**URINE**"
      ],
      "metadata": {
        "id": "YPcNXrm_AdcA"
      }
    },
    {
      "cell_type": "code",
      "execution_count": null,
      "metadata": {
        "colab": {
          "base_uri": "https://localhost:8080/"
        },
        "id": "BauaU2Tq5x6H",
        "outputId": "c3f882a2-f16a-47e3-ec84-4725c929780e"
      },
      "outputs": [
        {
          "output_type": "stream",
          "name": "stdout",
          "text": [
            "Conversion complete. The data has been saved to Urine.csv.\n"
          ]
        }
      ],
      "source": [
        "import pandas as pd\n",
        "\n",
        "output_file = 'Urine.csv'\n",
        "\n",
        "# Read\n",
        "file1_data = pd.read_excel(\"CatagorizedMetabolites.xlsx\")\n",
        "file2_data = pd.read_excel(\"PPMfinal.xlsx\")\n",
        "\n",
        "# get the first sheet of each file\n",
        "file1_sheet = file1_data.iloc[:, 0:2]\n",
        "file2_sheet = file2_data.iloc[:, 0:2]\n",
        "\n",
        "# merge the two sheets based on ID\n",
        "merged_data = pd.merge(file1_sheet, file2_sheet, on='ID', how='inner')\n",
        "\n",
        "# Create a new DataFrame\n",
        "new_table = pd.DataFrame({\n",
        "    'Name': merged_data['Name'],\n",
        "    'PPM': merged_data['PPM'],\n",
        "    'Where': 'Urine'\n",
        "})\n",
        "\n",
        "\n",
        "# Exporting\n",
        "new_table.to_csv(output_file, index=False)\n",
        "print(f\"Conversion complete. The data has been saved to {output_file}.\")\n"
      ]
    },
    {
      "cell_type": "markdown",
      "source": [
        "#**SERUM**"
      ],
      "metadata": {
        "id": "nycZjhXgAutj"
      }
    },
    {
      "cell_type": "code",
      "source": [
        "import pandas as pd\n",
        "\n",
        "# basically the same code over again, just done on different files from HMDB\n",
        "\n",
        "output_file = 'Serum.csv'\n",
        "\n",
        "# reading\n",
        "file1_data = pd.read_excel(\"CatagorizedMetabolites.xlsx\", sheet_name=1)\n",
        "file2_data = pd.read_excel(\"PPMfinal.xlsx\")\n",
        "\n",
        "file1_sheet = file1_data.iloc[:, 0:2]\n",
        "file2_sheet = file2_data.iloc[:, 0:2]\n",
        "\n",
        "merged_data = pd.merge(file1_sheet, file2_sheet, on='ID', how='inner')\n",
        "\n",
        "new_table = pd.DataFrame({\n",
        "    'Name': merged_data['Name'],\n",
        "    'PPM': merged_data['PPM'],\n",
        "    'Where': 'Serum'\n",
        "})\n",
        "\n",
        "new_table.to_csv(output_file, index=False)\n",
        "print(f\"Conversion complete. The data has been saved to {output_file}.\")"
      ],
      "metadata": {
        "colab": {
          "base_uri": "https://localhost:8080/"
        },
        "id": "equTFjakAy7T",
        "outputId": "98d58636-9002-4f17-b1f8-bdb0ddfc115c"
      },
      "execution_count": null,
      "outputs": [
        {
          "output_type": "stream",
          "name": "stdout",
          "text": [
            "Conversion complete. The data has been saved to Serum.csv.\n"
          ]
        }
      ]
    },
    {
      "cell_type": "markdown",
      "source": [
        "#**CSF**"
      ],
      "metadata": {
        "id": "OCLtil7NBmQM"
      }
    },
    {
      "cell_type": "code",
      "source": [
        "import pandas as pd\n",
        "\n",
        "output_file = 'CSF.csv'\n",
        "\n",
        "file1_data = pd.read_excel(\"CatagorizedMetabolites.xlsx\", sheet_name=2)\n",
        "file2_data = pd.read_excel(\"PPMfinal.xlsx\")\n",
        "\n",
        "file1_sheet = file1_data.iloc[:, 0:2]\n",
        "file2_sheet = file2_data.iloc[:, 0:2]\n",
        "\n",
        "merged_data = pd.merge(file1_sheet, file2_sheet, on='ID', how='inner')\n",
        "\n",
        "new_table = pd.DataFrame({\n",
        "    'Name': merged_data['Name'],\n",
        "    'PPM': merged_data['PPM'],\n",
        "    'Where': 'CSF'\n",
        "})\n",
        "\n",
        "new_table.to_csv(output_file, index=False)\n",
        "print(f\"Conversion complete. The data has been saved to {output_file}.\")"
      ],
      "metadata": {
        "colab": {
          "base_uri": "https://localhost:8080/"
        },
        "id": "4XeoNHogBmYD",
        "outputId": "01b8da4d-4d17-4856-dd81-745431bb11dc"
      },
      "execution_count": null,
      "outputs": [
        {
          "output_type": "stream",
          "name": "stdout",
          "text": [
            "Conversion complete. The data has been saved to CSF.csv.\n"
          ]
        }
      ]
    },
    {
      "cell_type": "markdown",
      "source": [
        "#**SALIVA**"
      ],
      "metadata": {
        "id": "leHp5Z3vBmgH"
      }
    },
    {
      "cell_type": "code",
      "source": [
        "import pandas as pd\n",
        "\n",
        "output_file = 'Saliva.csv'\n",
        "\n",
        "file1_data = pd.read_excel(\"CatagorizedMetabolites.xlsx\", sheet_name=3)\n",
        "file2_data = pd.read_excel(\"PPMfinal.xlsx\")\n",
        "\n",
        "file1_sheet = file1_data.iloc[:, 0:2]\n",
        "file2_sheet = file2_data.iloc[:, 0:2]\n",
        "\n",
        "merged_data = pd.merge(file1_sheet, file2_sheet, on='ID', how='inner')\n",
        "\n",
        "new_table = pd.DataFrame({\n",
        "    'Name': merged_data['Name'],\n",
        "    'PPM': merged_data['PPM'],\n",
        "    'Where': 'Saliva'\n",
        "})\n",
        "\n",
        "new_table.to_csv(output_file, index=False)\n",
        "print(f\"Conversion complete. The data has been saved to {output_file}.\")"
      ],
      "metadata": {
        "colab": {
          "base_uri": "https://localhost:8080/"
        },
        "id": "XNov479TBmmw",
        "outputId": "e7b21d69-32d4-4f42-90cb-2900de44ad2c"
      },
      "execution_count": null,
      "outputs": [
        {
          "output_type": "stream",
          "name": "stdout",
          "text": [
            "Conversion complete. The data has been saved to Saliva.csv.\n"
          ]
        }
      ]
    },
    {
      "cell_type": "markdown",
      "source": [
        "#**FECES**"
      ],
      "metadata": {
        "id": "jmdXPCHyBm0d"
      }
    },
    {
      "cell_type": "code",
      "source": [
        "import pandas as pd\n",
        "\n",
        "output_file = 'Feces.csv'\n",
        "\n",
        "# reading files\n",
        "file1_data = pd.read_excel(\"CatagorizedMetabolites.xlsx\", sheet_name=4)\n",
        "file2_data = pd.read_excel(\"PPMfinal.xlsx\")\n",
        "\n",
        "file1_sheet = file1_data.iloc[:, 0:2]\n",
        "file2_sheet = file2_data.iloc[:, 0:2]\n",
        "\n",
        "# merge\n",
        "merged_data = pd.merge(file1_sheet, file2_sheet, on='ID', how='inner')\n",
        "\n",
        "new_table = pd.DataFrame({\n",
        "    'Name': merged_data['Name'],\n",
        "    'PPM': merged_data['PPM'],\n",
        "    'Where': 'Feces'\n",
        "})\n",
        "\n",
        "\n",
        "new_table.to_csv(output_file, index=False)\n",
        "print(f\"Conversion complete. The data has been saved to {output_file}.\")"
      ],
      "metadata": {
        "colab": {
          "base_uri": "https://localhost:8080/"
        },
        "id": "xXnmIiYPBm65",
        "outputId": "d7caf159-e4b8-42e6-9e7b-85a5d8226549"
      },
      "execution_count": null,
      "outputs": [
        {
          "output_type": "stream",
          "name": "stdout",
          "text": [
            "Conversion complete. The data has been saved to Feces.csv.\n"
          ]
        }
      ]
    },
    {
      "cell_type": "markdown",
      "source": [
        "#**SWEAT**"
      ],
      "metadata": {
        "id": "bZCKoHKTBnBW"
      }
    },
    {
      "cell_type": "code",
      "source": [
        "x import pandas as pd\n",
        "\n",
        "output_file = 'Sweat.csv'\n",
        "\n",
        "# reading files\n",
        "file1_data = pd.read_excel(\"CatagorizedMetabolites.xlsx\", sheet_name=5)\n",
        "file2_data = pd.read_excel(\"PPMfinal.xlsx\")\n",
        "\n",
        "# getting right sheet\n",
        "file1_sheet = file1_data.iloc[:, 0:2]\n",
        "file2_sheet = file2_data.iloc[:, 0:2]\n",
        "\n",
        "# merge\n",
        "merged_data = pd.merge(file1_sheet, file2_sheet, on='ID', how='inner')\n",
        "\n",
        "new_table = pd.DataFrame({\n",
        "    'Name': merged_data['Name'],\n",
        "    'PPM': merged_data['PPM'],\n",
        "    'Where': 'Sweat'\n",
        "})\n",
        "\n",
        "\n",
        "new_table.to_csv(output_file, index=False)\n",
        "print(f\"Conversion complete. The data has been saved to {output_file}.\")"
      ],
      "metadata": {
        "colab": {
          "base_uri": "https://localhost:8080/"
        },
        "id": "liInBrMeBnIA",
        "outputId": "f2231b23-066a-4292-ff48-463e509cfbed"
      },
      "execution_count": null,
      "outputs": [
        {
          "output_type": "stream",
          "name": "stdout",
          "text": [
            "Conversion complete. The data has been saved to Sweat.csv.\n"
          ]
        }
      ]
    }
  ]
}