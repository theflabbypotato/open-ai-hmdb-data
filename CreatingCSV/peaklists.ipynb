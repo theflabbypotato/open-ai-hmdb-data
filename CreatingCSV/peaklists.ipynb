{
  "nbformat": 4,
  "nbformat_minor": 0,
  "metadata": {
    "colab": {
      "provenance": []
    },
    "kernelspec": {
      "name": "python3",
      "display_name": "Python 3"
    },
    "language_info": {
      "name": "python"
    }
  },
  "cells": [
    {
      "cell_type": "code",
      "source": [
        "#ONE THAT WORKS\n",
        "\n",
        "import os\n",
        "import csv\n",
        "\n",
        "folder_path = '/content/hmdb_nmr_peak_lists'\n",
        "output_file = 'output.csv'\n",
        "\n",
        "data = []\n",
        "\n",
        "for filename in os.listdir(folder_path):\n",
        "    if filename.endswith('.txt'):\n",
        "        file_name = filename.split('_nmroned')[0]\n",
        "        file_path = os.path.join(folder_path, filename)\n",
        "\n",
        "        ppm_values = []\n",
        "        recording = False\n",
        "\n",
        "        with open(file_path, 'r') as file:\n",
        "            for line in file:\n",
        "\n",
        "                if line.startswith(\"No.\"):  # check if line starts with \"No.\"\n",
        "                    recording = True\n",
        "                elif (not line.strip() or line.strip().startswith(\"Table\")) and recording:  # check for empty line or start of new table\n",
        "                    break\n",
        "                elif recording and line.strip() and line.strip().split()[0].isdigit():\n",
        "                    try:\n",
        "                        ppm = float(line.split()[1])\n",
        "                        ppm_values.append(ppm)\n",
        "                    except ValueError:\n",
        "                        continue\n",
        "\n",
        "\n",
        "        if ppm_values:\n",
        "            data.append((file_name, ppm_values))\n",
        "\n",
        "with open(output_file, 'w', newline='') as csvfile:\n",
        "    writer = csv.writer(csvfile)\n",
        "    writer.writerow(['File Name', 'PPM Values'])\n",
        "    writer.writerows(data)\n",
        "\n",
        "print(f\"Conversion complete. The data has been saved to {output_file}.\")\n",
        "\n",
        "\n",
        "\n"
      ],
      "metadata": {
        "colab": {
          "base_uri": "https://localhost:8080/"
        },
        "id": "L9G9FVY_kTCE",
        "outputId": "472a01ce-3787-4b5a-b630-dd6c7dd94f2d"
      },
      "execution_count": null,
      "outputs": [
        {
          "output_type": "stream",
          "name": "stdout",
          "text": [
            "Conversion complete. The data has been saved to output.csv.\n"
          ]
        }
      ]
    }
  ]
}